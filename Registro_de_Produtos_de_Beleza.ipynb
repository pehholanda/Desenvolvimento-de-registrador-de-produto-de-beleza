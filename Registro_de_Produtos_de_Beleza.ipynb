{
  "nbformat": 4,
  "nbformat_minor": 0,
  "metadata": {
    "colab": {
      "provenance": [],
      "authorship_tag": "ABX9TyNpsA4iyvc1pD2AnPqQ3odf",
      "include_colab_link": true
    },
    "kernelspec": {
      "name": "python3",
      "display_name": "Python 3"
    },
    "language_info": {
      "name": "python"
    }
  },
  "cells": [
    {
      "cell_type": "markdown",
      "metadata": {
        "id": "view-in-github",
        "colab_type": "text"
      },
      "source": [
        "<a href=\"https://colab.research.google.com/github/pehholanda/Desenvolvimento-de-registrador-de-produto-de-beleza/blob/main/Registro_de_Produtos_de_Beleza.ipynb\" target=\"_parent\"><img src=\"https://colab.research.google.com/assets/colab-badge.svg\" alt=\"Open In Colab\"/></a>"
      ]
    },
    {
      "cell_type": "code",
      "execution_count": 1,
      "metadata": {
        "id": "wtVsh6U6t0xT",
        "colab": {
          "base_uri": "https://localhost:8080/"
        },
        "outputId": "fff88535-5244-43ac-e018-3b9ea99eef35"
      },
      "outputs": [
        {
          "output_type": "stream",
          "name": "stdout",
          "text": [
            "Nome do Produto: Creme Hidratante\n",
            "Valor Pago: R$50.00\n",
            "Valor com Lucro de 30%: R$65.00\n",
            "Validade: 15/08/2024\n",
            "------------------------------\n",
            "Nome do Produto: Shampoo\n",
            "Valor Pago: R$20.00\n",
            "Valor com Lucro de 30%: R$26.00\n",
            "Validade: 10/12/2023\n",
            "------------------------------\n",
            "Nome do Produto: Condicionador\n",
            "Valor Pago: R$25.00\n",
            "Valor com Lucro de 30%: R$32.50\n",
            "Validade: 20/01/2024\n",
            "------------------------------\n",
            "Vendas do produto Creme Hidratante:\n",
            "Produto Vendido: Creme Hidratante, Data da Venda: 01/07/2024, Valor da Venda: R$65.00\n",
            "Produto Vendido: Creme Hidratante, Data da Venda: 02/07/2024, Valor da Venda: R$70.00\n",
            "------------------------------\n",
            "Vendas do produto Shampoo:\n",
            "Produto Vendido: Shampoo, Data da Venda: 03/07/2024, Valor da Venda: R$26.00\n",
            "------------------------------\n",
            "Não há vendas registradas para o produto Condicionador.\n",
            "------------------------------\n"
          ]
        }
      ],
      "source": [
        "from datetime import datetime\n",
        "\n",
        "class ProdutoBeleza:\n",
        "    def __init__(self, nome, valor_pago, validade):\n",
        "        self.nome = nome\n",
        "        self.valor_pago = valor_pago\n",
        "        self.validade = datetime.strptime(validade, '%d/%m/%Y')  # Armazenando a validade como um objeto datetime\n",
        "        self.valor_com_lucro = self.calcular_valor_com_lucro()\n",
        "        self.vendas = []  # Lista para armazenar registros de vendas\n",
        "\n",
        "    def calcular_valor_com_lucro(self):\n",
        "        return self.valor_pago * 1.30\n",
        "\n",
        "    def exibir_informacoes(self):\n",
        "        validade_formatada = self.validade.strftime('%d/%m/%Y')\n",
        "        print(f\"Nome do Produto: {self.nome}\")\n",
        "        print(f\"Valor Pago: R${self.valor_pago:.2f}\")\n",
        "        print(f\"Valor com Lucro de 30%: R${self.valor_com_lucro:.2f}\")\n",
        "        print(f\"Validade: {validade_formatada}\")\n",
        "\n",
        "    def registrar_venda(self, nome_produto_vendido, data_venda, valor_venda):\n",
        "        data_venda_formatada = datetime.strptime(data_venda, '%d/%m/%Y')\n",
        "        self.vendas.append({\n",
        "            'nome_produto_vendido': nome_produto_vendido,\n",
        "            'data_venda': data_venda_formatada,\n",
        "            'valor_venda': valor_venda\n",
        "        })\n",
        "\n",
        "    def exibir_vendas(self):\n",
        "        if self.vendas:\n",
        "            print(f\"Vendas do produto {self.nome}:\")\n",
        "            for venda in self.vendas:\n",
        "                data_venda_formatada = venda['data_venda'].strftime('%d/%m/%Y')\n",
        "                print(f\"Produto Vendido: {venda['nome_produto_vendido']}, Data da Venda: {data_venda_formatada}, Valor da Venda: R${venda['valor_venda']:.2f}\")\n",
        "        else:\n",
        "            print(f\"Não há vendas registradas para o produto {self.nome}.\")\n",
        "\n",
        "# Criando uma lista para armazenar os produtos\n",
        "produtos = []\n",
        "\n",
        "# Adicionando produtos à lista\n",
        "produtos.append(ProdutoBeleza(\"Creme Hidratante\", 50.00, \"15/08/2024\"))\n",
        "produtos.append(ProdutoBeleza(\"Shampoo\", 20.00, \"10/12/2023\"))\n",
        "produtos.append(ProdutoBeleza(\"Condicionador\", 25.00, \"20/01/2024\"))\n",
        "\n",
        "# Exibindo as informações de cada produto\n",
        "for produto in produtos:\n",
        "    produto.exibir_informacoes()\n",
        "    print(\"-\" * 30)\n",
        "\n",
        "# Registrando vendas\n",
        "produtos[0].registrar_venda(\"Creme Hidratante\", \"01/07/2024\", 65.00)\n",
        "produtos[0].registrar_venda(\"Creme Hidratante\", \"02/07/2024\", 70.00)\n",
        "produtos[1].registrar_venda(\"Shampoo\", \"03/07/2024\", 26.00)\n",
        "\n",
        "# Exibindo as vendas registradas\n",
        "for produto in produtos:\n",
        "    produto.exibir_vendas()\n",
        "    print(\"-\" * 30)"
      ]
    }
  ]
}